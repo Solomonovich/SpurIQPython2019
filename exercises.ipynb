{
 "cells": [
  {
   "cell_type": "code",
   "execution_count": 2,
   "metadata": {},
   "outputs": [
    {
     "name": "stdout",
     "output_type": "stream",
     "text": [
      "80\n"
     ]
    }
   ],
   "source": [
    "y = 20\n",
    "x = 4\n",
    "print (y * x)"
   ]
  },
  {
   "cell_type": "code",
   "execution_count": 3,
   "metadata": {},
   "outputs": [
    {
     "name": "stdout",
     "output_type": "stream",
     "text": [
      "12193263111263526900\n"
     ]
    }
   ],
   "source": [
    "y = 1234567890\n",
    "x = 9876543210\n",
    "print (y * x)"
   ]
  },
  {
   "cell_type": "code",
   "execution_count": 2,
   "metadata": {},
   "outputs": [],
   "source": [
    "y = 9999999999999999999999999999999999999"
   ]
  },
  {
   "cell_type": "code",
   "execution_count": 1,
   "metadata": {},
   "outputs": [
    {
     "name": "stdout",
     "output_type": "stream",
     "text": [
      "i must obey you ,shaqed\n"
     ]
    }
   ],
   "source": [
    "a = 100\n",
    "b = 50\n",
    "if a > b :\n",
    "    print (\"i must obey you ,shaqed\")"
   ]
  },
  {
   "cell_type": "code",
   "execution_count": 9,
   "metadata": {},
   "outputs": [
    {
     "name": "stdout",
     "output_type": "stream",
     "text": [
      "88283865947562576575695729452465762475247562957639756293562937456239756356423985629386234985739875629385239999981171613405243742342430427054753423752475243704236024370643706254376024364357601437061376501426012437061476000001\n"
     ]
    }
   ],
   "source": [
    "u = 9999999999999999999999999999999999999999999999999999999999999999999999999999999999999999999999999999999999999999\n",
    "p = 8828386594756257657569572945246576247524756295763975629356293745623975635642398562938623498573987562938523999999\n",
    "print (u * p)"
   ]
  },
  {
   "cell_type": "code",
   "execution_count": null,
   "metadata": {},
   "outputs": [],
   "source": [
    "name = input(\"what's your name? \")\n",
    "print(\"hello,\", name)"
   ]
  },
  {
   "cell_type": "code",
   "execution_count": 4,
   "metadata": {},
   "outputs": [
    {
     "ename": "SyntaxError",
     "evalue": "invalid syntax (<ipython-input-4-37a5af9cce19>, line 1)",
     "output_type": "error",
     "traceback": [
      "\u001b[0;36m  File \u001b[0;32m\"<ipython-input-4-37a5af9cce19>\"\u001b[0;36m, line \u001b[0;32m1\u001b[0m\n\u001b[0;31m    what is your name? shqed\u001b[0m\n\u001b[0m                    ^\u001b[0m\n\u001b[0;31mSyntaxError\u001b[0m\u001b[0;31m:\u001b[0m invalid syntax\n"
     ]
    }
   ],
   "source": []
  },
  {
   "cell_type": "code",
   "execution_count": null,
   "metadata": {},
   "outputs": [],
   "source": []
  }
 ],
 "metadata": {
  "kernelspec": {
   "display_name": "Python 3",
   "language": "python",
   "name": "python3"
  },
  "language_info": {
   "codemirror_mode": {
    "name": "ipython",
    "version": 3
   },
   "file_extension": ".py",
   "mimetype": "text/x-python",
   "name": "python",
   "nbconvert_exporter": "python",
   "pygments_lexer": "ipython3",
   "version": "3.7.3"
  }
 },
 "nbformat": 4,
 "nbformat_minor": 2
}
